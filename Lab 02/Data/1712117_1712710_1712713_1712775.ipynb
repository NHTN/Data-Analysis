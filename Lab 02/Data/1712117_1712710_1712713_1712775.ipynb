{
 "cells": [
  {
   "cell_type": "markdown",
   "metadata": {},
   "source": [
    "## ĐẠI HỌC KHOA HỌC TỰ NHIÊN - KHOA CÔNG NGHỆ THÔNG TIN "
   ]
  },
  {
   "cell_type": "markdown",
   "metadata": {},
   "source": [
    "## Trực quan hoá dữ liệu"
   ]
  },
  {
   "cell_type": "markdown",
   "metadata": {},
   "source": [
    "### Lab01: Mối quan hệ của dữ liệu"
   ]
  },
  {
   "cell_type": "markdown",
   "metadata": {},
   "source": [
    "Nhóm 5\n",
    "1. 1712117 – Nguyễn Huỳnh Thảo Nhi\n",
    "2. 1712710 – Lê Quang Quí\n",
    "3. 1712713 – Lê Bá Quyền\n",
    "4. 1712775 – Nguyễn Lê Trường Thành\n"
   ]
  },
  {
   "cell_type": "markdown",
   "metadata": {
    "colab_type": "text",
    "id": "KcONF2o6WffF"
   },
   "source": [
    "### Import  thư viện"
   ]
  },
  {
   "cell_type": "code",
   "execution_count": null,
   "metadata": {
    "colab": {
     "base_uri": "https://localhost:8080/",
     "height": 52
    },
    "colab_type": "code",
    "id": "LARDQSlWWffJ",
    "outputId": "4743cb25-35c3-45c6-d94c-7649f507ceda"
   },
   "outputs": [],
   "source": [
    "import requests\n",
    "import pandas as pd   \n",
    "import seaborn as sns\n",
    "import matplotlib.pyplot as plt\n",
    "import plotly.express as px\n",
    "from bs4 import BeautifulSoup\n",
    "import lxml.html as lh\n",
    "import seaborn as sns"
   ]
  },
  {
   "cell_type": "markdown",
   "metadata": {
    "colab_type": "text",
    "id": "YLT8R3zGWffu"
   },
   "source": [
    "### Crawl Dữ liệu thống kê từng ngày ca nhiễm virus Covid-19 từ tổ chức Worldometer"
   ]
  },
  {
   "cell_type": "code",
   "execution_count": null,
   "metadata": {
    "colab": {},
    "colab_type": "code",
    "id": "Qf4oIiPwWffv"
   },
   "outputs": [],
   "source": [
    "URL = 'https://www.worldometers.info/coronavirus/' #the website the data is extracted\n",
    "page = requests.get(URL)\n",
    "soup = BeautifulSoup(page.content, 'html.parser')"
   ]
  },
  {
   "cell_type": "code",
   "execution_count": null,
   "metadata": {
    "colab": {},
    "colab_type": "code",
    "id": "FBrI-QJTWffy"
   },
   "outputs": [],
   "source": [
    "table = soup.find(id='nav-tabContent')\n",
    "table = table.find(id = 'nav-today')\n",
    "table = table.find(id = '')\n",
    "table = table.find(id = 'main_table_countries_today')"
   ]
  },
  {
   "cell_type": "code",
   "execution_count": null,
   "metadata": {
    "colab": {},
    "colab_type": "code",
    "id": "IVg7uW_vWff3"
   },
   "outputs": [],
   "source": [
    "table_rows = table.find_all('tr') #finds all the tables with the tag tr in html\n",
    "l = [] \n",
    "for tr in table_rows: \n",
    "    row = []\n",
    "    td = tr.find_all('td')\n",
    "    row = [tr.text for tr in td]\n",
    "    if (len(row) == 0 or '\\n' in row[1] ):\n",
    "        continue  \n",
    "    row_temp = row[:7] + row[8:10]\n",
    "    l.append(row_temp) \n",
    "\n",
    "dataset = pd.DataFrame(l, columns=[\"Ranking\",\"Country\",\"Total Cases\",\"New Cases\",\"Total Deaths\",\"New Deaths\",\"Total Recoverd\",\"Active Cases\",\"Serious Cases\"])\n",
    "dataset"
   ]
  },
  {
   "cell_type": "markdown",
   "metadata": {
    "colab_type": "text",
    "id": "TffKjrVEWff8"
   },
   "source": [
    "### Lưu dữ liệu hàng ngày vào file .csv "
   ]
  },
  {
   "cell_type": "code",
   "execution_count": null,
   "metadata": {
    "colab": {},
    "colab_type": "code",
    "id": "28N3Ap0ZWff9",
    "scrolled": true
   },
   "outputs": [],
   "source": [
    "import datetime\n",
    "datestr = datetime.date.today().strftime(\"%Y%m%d\")\n",
    "dataset.to_csv('CoronaData_{}.csv'.format(datestr))\n",
    "dataset"
   ]
  },
  {
   "cell_type": "markdown",
   "metadata": {
    "colab_type": "text",
    "id": "nRyXXetkWfgA"
   },
   "source": [
    "### Tiền xử lý dữ liệu"
   ]
  },
  {
   "cell_type": "code",
   "execution_count": null,
   "metadata": {
    "colab": {
     "base_uri": "https://localhost:8080/",
     "height": 301
    },
    "colab_type": "code",
    "id": "B-itM_0mWfgA",
    "outputId": "6ed0df84-6552-4a62-9004-31901cb8390b"
   },
   "outputs": [],
   "source": [
    "dataset.info()"
   ]
  },
  {
   "cell_type": "code",
   "execution_count": null,
   "metadata": {
    "colab": {},
    "colab_type": "code",
    "id": "faFgQVekWfgI"
   },
   "outputs": [],
   "source": [
    "# Function to Clean the DataSet\n",
    "def dataframeCleaner(dataset):\n",
    "  \n",
    "    for columnname in dataset: #looping through titles of the table \n",
    "        temp = []     \n",
    "        for column in dataset[columnname]:   #geting column elements for the each title\n",
    "            column = str(column)\n",
    "            column = column.replace(',','')# Removing unwanted data clutter\n",
    "            column = column.replace('+','')#Removing unwanted '+'sign  \\\n",
    "            try:   \n",
    "                column = int(column)\n",
    "            except:\n",
    "                pass\n",
    "            \n",
    "            temp.append(column)\n",
    "        dataset[columnname] = temp\n",
    "        \n",
    " #   dataset = dataset.drop(dataset.tail(5).index)          # Deleting the last row   \n",
    "    dataset = dataset.replace('N/A', '', regex=True)\n",
    "    dataset = dataset.replace(r'^\\s*$', 0, regex=True)     # Converting empty string to 0\n",
    "    dataset.replace(['\\n'], '', regex=True, inplace=True)\n",
    "    dataset.replace([','], '', regex=True, inplace=True)\n",
    "    return dataset"
   ]
  },
  {
   "cell_type": "markdown",
   "metadata": {
    "colab_type": "text",
    "id": "Kedl8KZwWfgM"
   },
   "source": [
    "### Dữ liệu sau khi được xử lý"
   ]
  },
  {
   "cell_type": "code",
   "execution_count": null,
   "metadata": {
    "colab": {
     "base_uri": "https://localhost:8080/",
     "height": 406
    },
    "colab_type": "code",
    "id": "KZltFGFaWfgM",
    "outputId": "cb965444-5d66-406a-cf11-257c003c7ab4"
   },
   "outputs": [],
   "source": [
    "dataset = dataframeCleaner(dataset) \n",
    "dataset[dataset[\"Country\"] == \"Asia\"]\n",
    "dataset"
   ]
  },
  {
   "cell_type": "code",
   "execution_count": null,
   "metadata": {},
   "outputs": [],
   "source": [
    "datestr = datetime.date.today().strftime(\"%Y%m%d\")\n",
    "dataset.to_csv('CoronaData_{}_HorseColic.csv'.format(datestr))\n",
    "dataset"
   ]
  },
  {
   "cell_type": "markdown",
   "metadata": {},
   "source": [
    "### Lấy dữ liệu đã lưu về và xử lý vào ngày 10/06/2020"
   ]
  },
  {
   "cell_type": "code",
   "execution_count": null,
   "metadata": {},
   "outputs": [],
   "source": [
    "dataset = pd.read_csv('CoronaData_20200610_HorseColic.csv')\n",
    "dataset"
   ]
  },
  {
   "cell_type": "markdown",
   "metadata": {
    "colab_type": "text",
    "id": "uNwOnGTZWfgS"
   },
   "source": [
    "### Heat map"
   ]
  },
  {
   "cell_type": "code",
   "execution_count": null,
   "metadata": {
    "colab": {
     "base_uri": "https://localhost:8080/",
     "height": 406
    },
    "colab_type": "code",
    "id": "dkDMiCnzWfgU",
    "outputId": "69d3d78d-c1af-423e-99c8-a13437af23fb"
   },
   "outputs": [],
   "source": [
    "df = dataset\n",
    "df = dataframeCleaner(df)\n",
    "df = df.drop(df.head(0).index)\n",
    "df = df.drop(df.tail(8).index)\n",
    "df"
   ]
  },
  {
   "cell_type": "code",
   "execution_count": null,
   "metadata": {
    "colab": {},
    "colab_type": "code",
    "id": "9TarfhlDWfgX"
   },
   "outputs": [],
   "source": [
    "def heatMap(df):\n",
    "    corr = df.corr()\n",
    "    fig, ax = plt.subplots(figsize=(10, 10))\n",
    "    sns.heatmap(corr,  annot=True, fmt=\".2f\")\n",
    "    plt.xticks(range(len(corr.columns)), corr.columns)\n",
    "    plt.yticks(range(len(corr.columns)), corr.columns)\n",
    "    plt.show()"
   ]
  },
  {
   "cell_type": "code",
   "execution_count": null,
   "metadata": {
    "colab": {
     "base_uri": "https://localhost:8080/",
     "height": 657
    },
    "colab_type": "code",
    "id": "o2GZtkAUWfgb",
    "outputId": "121ea921-7ef1-4b98-cf99-ad3b8058a0f1"
   },
   "outputs": [],
   "source": [
    "data = df\n",
    "features = [\"Total Cases\",\"New Cases\",\"Total Deaths\",\"New Deaths\",\"Total Recoverd\",\"Active Cases\",\"Serious Cases\"]\n",
    "corr_data = data[features]\n",
    "heatMap(corr_data)"
   ]
  },
  {
   "cell_type": "markdown",
   "metadata": {
    "colab": {
     "base_uri": "https://localhost:8080/",
     "height": 275
    },
    "colab_type": "code",
    "id": "zs-5w7NrDHYz",
    "outputId": "00a029f9-0a64-4f9a-f927-337afa2343be"
   },
   "source": [
    "### Bar Chart"
   ]
  },
  {
   "cell_type": "code",
   "execution_count": null,
   "metadata": {
    "colab": {
     "base_uri": "https://localhost:8080/",
     "height": 627
    },
    "colab_type": "code",
    "id": "Gcs_t8b2Aoqt",
    "outputId": "007862ee-56b7-45eb-a4d8-cc92cd0fd8d8"
   },
   "outputs": [],
   "source": [
    "%matplotlib inline\n",
    "plt.figure(figsize=(100,50))\n",
    "corr_data.corr().plot.bar(rot=0, width = 0.8, figsize=(10,10))"
   ]
  },
  {
   "cell_type": "markdown",
   "metadata": {
    "colab_type": "text",
    "id": "pb_BRcD5NaqY"
   },
   "source": [
    "#### The lower in each column, least the dependence. for exaple new cases and total recovred are least dependent compaired to new cases vs active cases which signifies that the countries with high active cases will report more new cases where the recovary rate will not effect much for increase of new cases."
   ]
  },
  {
   "cell_type": "markdown",
   "metadata": {},
   "source": [
    "### Pie Chart"
   ]
  },
  {
   "cell_type": "code",
   "execution_count": null,
   "metadata": {},
   "outputs": [],
   "source": [
    "labels = [\"Total Deaths\",\"Total Recoverd\",\"Active Cases\"]\n",
    "world_total = data[data[\"Country\"] == \"World\"][labels]\n",
    "world_data = world_total[labels].values[0].tolist()  # convert ndarray to  list\n",
    "print(world_total)\n"
   ]
  },
  {
   "cell_type": "code",
   "execution_count": null,
   "metadata": {},
   "outputs": [],
   "source": [
    "\n",
    "world_series = pd.Series(world_data,index = labels, name = \"Total Case of World\") \n",
    "\n",
    "plot = world_series.plot.pie(figsize = (9,9),fontsize = 18,autopct='%1.1f%%',subplots = False)\n"
   ]
  },
  {
   "cell_type": "markdown",
   "metadata": {},
   "source": [
    "### Stack vertical bar chart"
   ]
  },
  {
   "cell_type": "code",
   "execution_count": null,
   "metadata": {
    "scrolled": false
   },
   "outputs": [],
   "source": [
    "large5 = data[data['Country'] != \"World\"].nlargest(4,\"New Deaths\")  #get top 4 country have largest New Deaths\n",
    "indexs = [\"Country\",\"Total Deaths\", \"Total Recoverd\", \"Active Cases\"]\n",
    "large_filter = large5[indexs].set_index(\"Country\")\n",
    "print(large_filter)"
   ]
  },
  {
   "cell_type": "code",
   "execution_count": null,
   "metadata": {},
   "outputs": [],
   "source": [
    "plot = large_filter.plot.bar(stacked=True,figsize = (9,15),rot=0)"
   ]
  },
  {
   "cell_type": "markdown",
   "metadata": {},
   "source": [
    "### Dot and Line Chart"
   ]
  },
  {
   "cell_type": "code",
   "execution_count": null,
   "metadata": {},
   "outputs": [],
   "source": [
    "total_case_death_reco=df\n",
    "features = [\"Country\",\"Total Cases\",\"Total Deaths\",\"Total Recoverd\",\"Active Cases\",\"Serious Cases\"]\n",
    "df_total_case_death_reco=total_case_death_reco[features]\n",
    "df_total_case_death_reco = df_total_case_death_reco.drop(df.head(1).index)\n",
    "df_total_case_death_reco=df_total_case_death_reco.head(10)\n",
    "df_total_case_death_reco"
   ]
  },
  {
   "cell_type": "code",
   "execution_count": null,
   "metadata": {},
   "outputs": [],
   "source": [
    "#Relationship between Total Case, Total Deaths and Total Recoverd of top 10 "
   ]
  },
  {
   "cell_type": "code",
   "execution_count": null,
   "metadata": {},
   "outputs": [],
   "source": [
    "plt.plot( 'Country', 'Total Cases', data=df_total_case_death_reco, linestyle='-', marker='o')\n",
    "plt.plot( 'Country', 'Total Deaths', data=df_total_case_death_reco, linestyle='-', marker='o')\n",
    "plt.plot( 'Country', 'Total Recoverd', data=df_total_case_death_reco, linestyle='-', marker='o')\n",
    "plt.legend()\n"
   ]
  },
  {
   "cell_type": "markdown",
   "metadata": {},
   "source": [
    "### Scatterplot Matrix"
   ]
  },
  {
   "cell_type": "code",
   "execution_count": null,
   "metadata": {},
   "outputs": [],
   "source": [
    "import plotly.express as px\n",
    "df = px.data.iris()\n",
    "fig = px.scatter_matrix(df_total_case_death_reco)\n",
    "fig.show()"
   ]
  },
  {
   "cell_type": "code",
   "execution_count": null,
   "metadata": {},
   "outputs": [],
   "source": []
  }
 ],
 "metadata": {
  "colab": {
   "collapsed_sections": [],
   "name": "Lab01.ipynb",
   "provenance": []
  },
  "kernelspec": {
   "display_name": "Python 3",
   "language": "python",
   "name": "python3"
  },
  "language_info": {
   "codemirror_mode": {
    "name": "ipython",
    "version": 3
   },
   "file_extension": ".py",
   "mimetype": "text/x-python",
   "name": "python",
   "nbconvert_exporter": "python",
   "pygments_lexer": "ipython3",
   "version": "3.7.4"
  }
 },
 "nbformat": 4,
 "nbformat_minor": 1
}
